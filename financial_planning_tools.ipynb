{
 "cells": [
  {
   "cell_type": "markdown",
   "metadata": {},
   "source": [
    "# Financial Planning with APIs and Simulations\n",
    "\n",
    "In this Challenge, you’ll create two financial analysis tools by using a single Jupyter notebook:\n",
    "\n",
    "Part 1: A financial planner for emergencies. The members will be able to use this tool to visualize their current savings. The members can then determine if they have enough reserves for an emergency fund.\n",
    "\n",
    "Part 2: A financial planner for retirement. This tool will forecast the performance of their retirement portfolio in 30 years. To do this, the tool will make an Alpaca API call via the Alpaca SDK to get historical price data for use in Monte Carlo simulations.\n",
    "\n",
    "You’ll use the information from the Monte Carlo simulation to answer questions about the portfolio in your Jupyter notebook.\n",
    "\n"
   ]
  },
  {
   "cell_type": "code",
   "execution_count": 1,
   "metadata": {},
   "outputs": [],
   "source": [
    "# Import the required libraries and dependencies\n",
    "import os\n",
    "import requests\n",
    "import json\n",
    "import pandas as pd\n",
    "from dotenv import load_dotenv\n",
    "import alpaca_trade_api as tradeapi\n",
    "from MCForecastTools import MCSimulation\n",
    "\n",
    "%matplotlib inline"
   ]
  },
  {
   "cell_type": "code",
   "execution_count": 2,
   "metadata": {},
   "outputs": [],
   "source": [
    "# Load the environment variables from the .env file\n",
    "#by calling the load_dotenv function\n",
    "#load_dotenv()"
   ]
  },
  {
   "cell_type": "code",
   "execution_count": 3,
   "metadata": {},
   "outputs": [],
   "source": [
    "#Cell runs %env\n"
   ]
  },
  {
   "cell_type": "code",
   "execution_count": 4,
   "metadata": {},
   "outputs": [],
   "source": [
    "# alpaca_api_key = os.getenv(\"ALPACA_API_KEY\")\n",
    "# alpaca_secret_key = os.getenv(\"ALPACA_SECRET_KEY\")"
   ]
  },
  {
   "cell_type": "code",
   "execution_count": null,
   "metadata": {},
   "outputs": [],
   "source": [
    "\n"
   ]
  },
  {
   "cell_type": "markdown",
   "metadata": {},
   "source": [
    "## Part 1: Create a Financial Planner for Emergencies"
   ]
  },
  {
   "cell_type": "markdown",
   "metadata": {},
   "source": [
    "### Evaluate the Cryptocurrency Wallet by Using the Requests Library\n",
    "\n",
    "In this section, you’ll determine the current value of a member’s cryptocurrency wallet. You’ll collect the current prices for the Bitcoin and Ethereum cryptocurrencies by using the Python Requests library. For the prototype, you’ll assume that the member holds the 1.2 Bitcoins (BTC) and 5.3 Ethereum coins (ETH). To do all this, complete the following steps:\n",
    "\n",
    "1. Create a variable named `monthly_income`, and set its value to `12000`.\n",
    "\n",
    "2. Use the Requests library to get the current price (in US dollars) of Bitcoin (BTC) and Ethereum (ETH) by using the API endpoints that the starter code supplies.\n",
    "\n",
    "3. Navigate the JSON response object to access the current price of each coin, and store each in a variable.\n",
    "\n",
    "    > **Hint** Note the specific identifier for each cryptocurrency in the API JSON response. The Bitcoin identifier is `1`, and the Ethereum identifier is `1027`.\n",
    "\n",
    "4. Calculate the value, in US dollars, of the current amount of each cryptocurrency and of the entire cryptocurrency wallet.\n",
    "\n"
   ]
  },
  {
   "cell_type": "code",
   "execution_count": 5,
   "metadata": {},
   "outputs": [],
   "source": [
    "# The current number of coins for each cryptocurrency asset held in the portfolio.\n",
    "btc_coins = 1.2\n",
    "eth_coins = 5.3"
   ]
  },
  {
   "cell_type": "markdown",
   "metadata": {},
   "source": [
    "#### Step 1: Create a variable named `monthly_income`, and set its value to `12000`."
   ]
  },
  {
   "cell_type": "code",
   "execution_count": 6,
   "metadata": {},
   "outputs": [],
   "source": [
    "# The monthly amount for the member's household income\n",
    "monthly_income = 12000\n"
   ]
  },
  {
   "cell_type": "markdown",
   "metadata": {},
   "source": [
    "#### Review the endpoint URLs for the API calls to Free Crypto API in order to get the current pricing information for both BTC and ETH."
   ]
  },
  {
   "cell_type": "code",
   "execution_count": 7,
   "metadata": {},
   "outputs": [],
   "source": [
    "# The Free Crypto API Call endpoint URLs for the held cryptocurrency assets\n",
    "btc_url = \"https://api.alternative.me/v2/ticker/Bitcoin/?convert=USD\"\n",
    "eth_url = \"https://api.alternative.me/v2/ticker/Ethereum/?convert=USD\""
   ]
  },
  {
   "cell_type": "markdown",
   "metadata": {},
   "source": [
    "#### Step 2. Use the Requests library to get the current price (in US dollars) of Bitcoin (BTC) and Ethereum (ETH) by using the API endpoints that the starter code supplied."
   ]
  },
  {
   "cell_type": "code",
   "execution_count": 8,
   "metadata": {},
   "outputs": [
    {
     "name": "stdout",
     "output_type": "stream",
     "text": [
      "{\n",
      "    \"data\": {\n",
      "        \"1\": {\n",
      "            \"circulating_supply\": 19394806,\n",
      "            \"id\": 1,\n",
      "            \"last_updated\": 1686087586,\n",
      "            \"max_supply\": 21000000,\n",
      "            \"name\": \"Bitcoin\",\n",
      "            \"quotes\": {\n",
      "                \"USD\": {\n",
      "                    \"market_cap\": 524184136025,\n",
      "                    \"percent_change_1h\": 0.052051926397677,\n",
      "                    \"percent_change_24h\": 5.76672670873217,\n",
      "                    \"percent_change_7d\": -2.92423085289594,\n",
      "                    \"percentage_change_1h\": 0.052051926397677,\n",
      "                    \"percentage_change_24h\": 5.76672670873217,\n",
      "                    \"percentage_change_7d\": -2.92423085289594,\n",
      "                    \"price\": 27004.0,\n",
      "                    \"volume_24h\": 15924950899\n",
      "                }\n",
      "            },\n",
      "            \"rank\": 1,\n",
      "            \"symbol\": \"BTC\",\n",
      "            \"total_supply\": 19394806,\n",
      "            \"website_slug\": \"bitcoin\"\n",
      "        }\n",
      "    },\n",
      "    \"metadata\": {\n",
      "        \"error\": null,\n",
      "        \"num_cryptocurrencies\": 3119,\n",
      "        \"timestamp\": 1686087586\n",
      "    }\n",
      "}\n"
     ]
    }
   ],
   "source": [
    "# Using the Python requests library, make an API call to access the current price of BTC\n",
    "btc_response = requests.get(btc_url).json()\n",
    "\n",
    "# Use the json.dumps function to review the response data from the API call\n",
    "# Use the indent and sort_keys parameters to make the response object readable\n",
    "print(json.dumps(btc_response, indent=4, sort_keys=True))\n"
   ]
  },
  {
   "cell_type": "code",
   "execution_count": 9,
   "metadata": {},
   "outputs": [
    {
     "name": "stdout",
     "output_type": "stream",
     "text": [
      "{\n",
      "    \"data\": {\n",
      "        \"1027\": {\n",
      "            \"circulating_supply\": 120233889,\n",
      "            \"id\": 1027,\n",
      "            \"last_updated\": 1686087579,\n",
      "            \"max_supply\": 120233889,\n",
      "            \"name\": \"Ethereum\",\n",
      "            \"quotes\": {\n",
      "                \"USD\": {\n",
      "                    \"market_cap\": 225977130435,\n",
      "                    \"percent_change_1h\": -0.191634912699294,\n",
      "                    \"percent_change_24h\": 4.44221738575558,\n",
      "                    \"percent_change_7d\": -1.47861126187167,\n",
      "                    \"percentage_change_1h\": -0.191634912699294,\n",
      "                    \"percentage_change_24h\": 4.44221738575558,\n",
      "                    \"percentage_change_7d\": -1.47861126187167,\n",
      "                    \"price\": 1878.05,\n",
      "                    \"volume_24h\": 9763783008\n",
      "                }\n",
      "            },\n",
      "            \"rank\": 2,\n",
      "            \"symbol\": \"ETH\",\n",
      "            \"total_supply\": 120233889,\n",
      "            \"website_slug\": \"ethereum\"\n",
      "        }\n",
      "    },\n",
      "    \"metadata\": {\n",
      "        \"error\": null,\n",
      "        \"num_cryptocurrencies\": 3119,\n",
      "        \"timestamp\": 1686087579\n",
      "    }\n",
      "}\n"
     ]
    }
   ],
   "source": [
    "# Using the Python requests library, make an API call to access the current price ETH\n",
    "eth_response = requests.get(eth_url).json()\n",
    "\n",
    "# Use the json.dumps function to review the response data from the API call\n",
    "# Use the indent and sort_keys parameters to make the response object readable\n",
    "print(json.dumps(eth_response, indent=4, sort_keys=True))\n"
   ]
  },
  {
   "cell_type": "markdown",
   "metadata": {},
   "source": [
    "#### Step 3: Navigate the JSON response object to access the current price of each coin, and store each in a variable."
   ]
  },
  {
   "cell_type": "code",
   "execution_count": 10,
   "metadata": {},
   "outputs": [
    {
     "name": "stdout",
     "output_type": "stream",
     "text": [
      " The current price for Bitcoin is $27004.0\n"
     ]
    }
   ],
   "source": [
    "# Navigate the BTC response object to access the current price of BTC\n",
    "btc_price = btc_response['data']['1']['quotes']['USD']['price']\n",
    "\n",
    "# Print the current price of BTC\n",
    "print (f\" The current price for Bitcoin is ${btc_price}\")\n"
   ]
  },
  {
   "cell_type": "code",
   "execution_count": 11,
   "metadata": {},
   "outputs": [
    {
     "name": "stdout",
     "output_type": "stream",
     "text": [
      " The current price for Ethereum is $1878.05\n"
     ]
    }
   ],
   "source": [
    "# Navigate the BTC response object to access the current price of ETH\n",
    "eth_price = eth_response['data']['1027']['quotes']['USD']['price']\n",
    "\n",
    "# Print the current price of ETH\n",
    "print (f\" The current price for Ethereum is ${eth_price}\")\n"
   ]
  },
  {
   "cell_type": "markdown",
   "metadata": {},
   "source": [
    "### Step 4: Calculate the value, in US dollars, of the current amount of each cryptocurrency and of the entire cryptocurrency wallet."
   ]
  },
  {
   "cell_type": "code",
   "execution_count": 12,
   "metadata": {},
   "outputs": [
    {
     "name": "stdout",
     "output_type": "stream",
     "text": [
      "The current value of my BTC is $32404.8\n"
     ]
    }
   ],
   "source": [
    "# Compute the current value of the BTC holding \n",
    "btc_value = btc_coins * btc_price\n",
    "\n",
    "# Print current value of your holding in BTC\n",
    "print(f\"The current value of my BTC is ${btc_value}\")"
   ]
  },
  {
   "cell_type": "code",
   "execution_count": 13,
   "metadata": {},
   "outputs": [
    {
     "name": "stdout",
     "output_type": "stream",
     "text": [
      "The current value of my Eth is $9953.664999999999\n"
     ]
    }
   ],
   "source": [
    "# Compute the current value of the ETH holding \n",
    "eth_value = eth_coins * eth_price\n",
    "\n",
    "# Print current value of your holding in ETH\n",
    "print(f\"The current value of my Eth is ${eth_value}\")\n"
   ]
  },
  {
   "cell_type": "code",
   "execution_count": 14,
   "metadata": {},
   "outputs": [
    {
     "name": "stdout",
     "output_type": "stream",
     "text": [
      " The current value of my cryptocurrency wallet is $42358.465\n"
     ]
    }
   ],
   "source": [
    "# Compute the total value of the cryptocurrency wallet\n",
    "# Add the value of the BTC holding to the value of the ETH holding\n",
    "total_crypto_wallet = btc_value + eth_value\n",
    "\n",
    "# Print current cryptocurrency wallet balance\n",
    "print(f\" The current value of my cryptocurrency wallet is ${total_crypto_wallet}\")\n"
   ]
  },
  {
   "cell_type": "markdown",
   "metadata": {},
   "source": [
    "### Evaluate the Stock and Bond Holdings by Using the Alpaca SDK\n",
    "\n",
    "In this section, you’ll determine the current value of a member’s stock and bond holdings. You’ll make an API call to Alpaca via the Alpaca SDK to get the current closing prices of the SPDR S&P 500 ETF Trust (ticker: SPY) and of the iShares Core US Aggregate Bond ETF (ticker: AGG). For the prototype, assume that the member holds 110 shares of SPY, which represents the stock portion of their portfolio, and 200 shares of AGG, which represents the bond portion. To do all this, complete the following steps:\n",
    "\n",
    "1. In the `Starter_Code` folder, create an environment file (`.env`) to store the values of your Alpaca API key and Alpaca secret key.\n",
    "\n",
    "2. Set the variables for the Alpaca API and secret keys. Using the Alpaca SDK, create the Alpaca `tradeapi.REST` object. In this object, include the parameters for the Alpaca API key, the secret key, and the version number.\n",
    "\n",
    "3. Set the following parameters for the Alpaca API call:\n",
    "\n",
    "    - `tickers`: Use the tickers for the member’s stock and bond holdings.\n",
    "\n",
    "    - `timeframe`: Use a time frame of one day.\n",
    "\n",
    "    - `start_date` and `end_date`: Use the same date for these parameters, and format them with the date of the previous weekday (or `2020-08-07`). This is because you want the one closing price for the most-recent trading day.\n",
    "\n",
    "4. Get the current closing prices for `SPY` and `AGG` by using the Alpaca `get_bars` function. Format the response as a Pandas DataFrame by including the `df` property at the end of the `get_bars` function.\n",
    "\n",
    "5. Navigating the Alpaca response DataFrame, select the `SPY` and `AGG` closing prices, and store them as variables.\n",
    "\n",
    "6. Calculate the value, in US dollars, of the current amount of shares in each of the stock and bond portions of the portfolio, and print the results.\n"
   ]
  },
  {
   "cell_type": "markdown",
   "metadata": {},
   "source": [
    "#### Review the total number of shares held in both (SPY) and (AGG)."
   ]
  },
  {
   "cell_type": "code",
   "execution_count": 15,
   "metadata": {},
   "outputs": [],
   "source": [
    "# Current amount of shares held in both the stock (SPY) and bond (AGG) portion of the portfolio.\n",
    "spy_shares = 110\n",
    "agg_shares = 200\n"
   ]
  },
  {
   "cell_type": "markdown",
   "metadata": {},
   "source": [
    "#### Step 1: In the `Starter_Code` folder, create an environment file (`.env`) to store the values of your Alpaca API key and Alpaca secret key."
   ]
  },
  {
   "cell_type": "markdown",
   "metadata": {},
   "source": [
    "#### Step 2: Set the variables for the Alpaca API and secret keys. Using the Alpaca SDK, create the Alpaca `tradeapi.REST` object. In this object, include the parameters for the Alpaca API key, the secret key, and the version number."
   ]
  },
  {
   "cell_type": "code",
   "execution_count": 16,
   "metadata": {},
   "outputs": [],
   "source": [
    "# #set ENV\n",
    "\n",
    "# %env ALPACA_API_KEY = \"PKR6KACCAN9G7QJ98HTN\"\n",
    "# %env ALPACA_SECRET_KEY = \"YSYXxVn9blxC5NEJRVNOwMOLUew8sWfhfbIrh3Pv\""
   ]
  },
  {
   "cell_type": "code",
   "execution_count": 17,
   "metadata": {},
   "outputs": [],
   "source": [
    "# alpaca_api_key = os.getenv(\"ALPACA_API_KEY\")\n",
    "# alpaca_secret_key = os.getenv(\"ALPACA_SECRET_KEY\")"
   ]
  },
  {
   "cell_type": "code",
   "execution_count": 18,
   "metadata": {},
   "outputs": [],
   "source": [
    "# Set the variables for the Alpaca API and secret keys\n",
    "# YOUR CODE HERE\n",
    "# YOUR CODE HERE\n",
    "\n",
    "# Create the Alpaca tradeapi.REST object\n",
    "alpaca = tradeapi.REST(\"PKR6KACCAN9G7QJ98HTN\", \"YSYXxVn9blxC5NEJRVNOwMOLUew8sWfhfbIrh3Pv\", api_version=\"v2\", base_url='https://paper-api.alpaca.markets')\n"
   ]
  },
  {
   "cell_type": "markdown",
   "metadata": {},
   "source": [
    "#### Step 3: Set the following parameters for the Alpaca API call:\n",
    "\n",
    "- `tickers`: Use the tickers for the member’s stock and bond holdings.\n",
    "\n",
    "- `timeframe`: Use a time frame of one day.\n",
    "\n",
    "- `start_date` and `end_date`: Use the same date for these parameters, and format them with the date of the previous weekday (or `2020-08-07`). This is because you want the one closing price for the most-recent trading day.\n"
   ]
  },
  {
   "cell_type": "code",
   "execution_count": 19,
   "metadata": {},
   "outputs": [],
   "source": [
    "# Set the tickers for both the bond and stock portion of the portfolio\n",
    "tickers = [\"SPY\",\"AGG\"]\n",
    "\n",
    "# Set timeframe to 1Day\n",
    "timeframe= \"1Day\"\n",
    "\n",
    "# Format current date as ISO format\n",
    "# Set both the start and end date at the date of your prior weekday \n",
    "# This will give you the closing price of the previous trading day\n",
    "# Alternatively you can use a start and end date of 2020-08-07\n",
    "current_date = 2023-6-4\n",
    "start_date = pd.Timestamp('2020-08-07', tz=\"America/New_York\").isoformat()\n",
    "end_date = pd.Timestamp('2020-08-07', tz=\"America/New_York\").isoformat()\n"
   ]
  },
  {
   "cell_type": "markdown",
   "metadata": {},
   "source": [
    "#### Step 4: Get the current closing prices for `SPY` and `AGG` by using the Alpaca `get_bars` function. Format the response as a Pandas DataFrame by including the `df` property at the end of the `get_bars` function."
   ]
  },
  {
   "cell_type": "code",
   "execution_count": 20,
   "metadata": {},
   "outputs": [
    {
     "name": "stdout",
     "output_type": "stream",
     "text": [
      "                              AGG                                    \\\n",
      "                             open    high      low   close   volume   \n",
      "timestamp                                                             \n",
      "2020-08-07 04:00:00+00:00  119.66  119.73  119.395  119.43  5559066   \n",
      "\n",
      "                                                      SPY                 \\\n",
      "                          trade_count        vwap    open    high    low   \n",
      "timestamp                                                                  \n",
      "2020-08-07 04:00:00+00:00       15246  119.475306  333.28  334.88  332.3   \n",
      "\n",
      "                                                                     \n",
      "                            close    volume trade_count        vwap  \n",
      "timestamp                                                            \n",
      "2020-08-07 04:00:00+00:00  334.57  57282821      350100  333.800372  \n"
     ]
    }
   ],
   "source": [
    "# Use the Alpaca get_bars function to get current closing prices the portfolio\n",
    "# Be sure to set the `df` property after the function to format the response object as a DataFrame\n",
    "portfolio = alpaca.get_bars(tickers,timeframe, start = start_date, end = end_date).df\n",
    "\n",
    "# Reorganize the DataFrame\n",
    "# Separate ticker data\n",
    "portfolio_closing_prices = pd.DataFrame()\n",
    "AGG = portfolio[portfolio['symbol']=='AGG'].drop('symbol', axis=1)\n",
    "SPY = portfolio[portfolio['symbol']=='SPY'].drop('symbol', axis=1)\n",
    "# Concatenate the ticker DataFrames\n",
    "portfolio = pd.concat([AGG, SPY], axis=1, keys=[\"AGG\", \"SPY\"])\n",
    "\n",
    "# Review the first 5 rows of the Alpaca DataFrame\n",
    "# YOUR CODE HERE\n",
    "print(portfolio.head(5))\n",
    "\n"
   ]
  },
  {
   "cell_type": "markdown",
   "metadata": {},
   "source": [
    "#### Step 5: Navigating the Alpaca response DataFrame, select the `SPY` and `AGG` closing prices, and store them as variables."
   ]
  },
  {
   "cell_type": "code",
   "execution_count": 21,
   "metadata": {},
   "outputs": [
    {
     "name": "stdout",
     "output_type": "stream",
     "text": [
      "AGG closing price is $119.43\n"
     ]
    }
   ],
   "source": [
    "# Access the closing price for AGG from the Alpaca DataFrame\n",
    "# Converting the value to a floating point number\n",
    "agg_close_price = portfolio['AGG']['close'].iloc[-1]\n",
    "agg_close_price = float(agg_close_price)\n",
    "\n",
    "# Print the AGG closing price\n",
    "print(f\"AGG closing price is ${agg_close_price:.2f}\")\n"
   ]
  },
  {
   "cell_type": "code",
   "execution_count": 22,
   "metadata": {},
   "outputs": [
    {
     "name": "stdout",
     "output_type": "stream",
     "text": [
      "spy closing price is $334.57\n"
     ]
    }
   ],
   "source": [
    "# Access the closing price for SPY from the Alpaca DataFrame\n",
    "# Converting the value to a floating point number\n",
    "spy_close_price = portfolio['SPY']['close'].iloc[-1]\n",
    "spy_close_price = float(spy_close_price)\n",
    "\n",
    "# Print the SPY closing price\n",
    "print(f\"spy closing price is ${spy_close_price:.2f}\")\n"
   ]
  },
  {
   "cell_type": "markdown",
   "metadata": {},
   "source": [
    "#### Step 6: Calculate the value, in US dollars, of the current amount of shares in each of the stock and bond portions of the portfolio, and print the results."
   ]
  },
  {
   "cell_type": "code",
   "execution_count": 23,
   "metadata": {},
   "outputs": [
    {
     "name": "stdout",
     "output_type": "stream",
     "text": [
      "The current value of the bond portfolio is $23886.0\n"
     ]
    }
   ],
   "source": [
    "# Calculate the current value of the bond portion of the portfolio\n",
    "agg_value = agg_close_price * agg_shares\n",
    "\n",
    "# Print the current value of the bond portfolio\n",
    "print(f\"The current value of the bond portfolio is ${agg_value}\")\n"
   ]
  },
  {
   "cell_type": "code",
   "execution_count": 24,
   "metadata": {},
   "outputs": [
    {
     "name": "stdout",
     "output_type": "stream",
     "text": [
      "The current value of the stock portfolio is $36802.7\n"
     ]
    }
   ],
   "source": [
    "# Calculate the current value of the stock portion of the portfolio\n",
    "spy_value = spy_close_price * spy_shares\n",
    "\n",
    "# Print the current value of the stock portfolio\n",
    "print(f\"The current value of the stock portfolio is ${spy_value}\")\n"
   ]
  },
  {
   "cell_type": "code",
   "execution_count": 25,
   "metadata": {},
   "outputs": [
    {
     "name": "stdout",
     "output_type": "stream",
     "text": [
      "The current balance of the stock and bond portion of the portfolio is $60688.7\n"
     ]
    }
   ],
   "source": [
    "# Calculate the total value of the stock and bond portion of the portfolio\n",
    "total_stocks_bonds = agg_value + spy_value\n",
    "\n",
    "# Print the current balance of the stock and bond portion of the portfolio\n",
    "print(f\"The current balance of the stock and bond portion of the portfolio is ${total_stocks_bonds}\")"
   ]
  },
  {
   "cell_type": "code",
   "execution_count": 26,
   "metadata": {},
   "outputs": [
    {
     "name": "stdout",
     "output_type": "stream",
     "text": [
      " The current cryptocurrency wallet balance is $103047.165\n"
     ]
    }
   ],
   "source": [
    "# Calculate the total value of the member's entire savings portfolio\n",
    "# Add the value of the cryptocurrency walled to the value of the total stocks and bonds\n",
    "total_portfolio = total_stocks_bonds + total_crypto_wallet\n",
    "\n",
    "# Print current cryptocurrency wallet balance\n",
    "print(f\" The current cryptocurrency wallet balance is ${total_portfolio}\")\n"
   ]
  },
  {
   "cell_type": "markdown",
   "metadata": {},
   "source": [
    "### Evaluate the Emergency Fund\n",
    "\n",
    "In this section, you’ll use the valuations for the cryptocurrency wallet and for the stock and bond portions of the portfolio to determine if the credit union member has enough savings to build an emergency fund into their financial plan. To do this, complete the following steps:\n",
    "\n",
    "1. Create a Python list named `savings_data` that has two elements. The first element contains the total value of the cryptocurrency wallet. The second element contains the total value of the stock and bond portions of the portfolio.\n",
    "\n",
    "2. Use the `savings_data` list to create a Pandas DataFrame named `savings_df`, and then display this DataFrame. The function to create the DataFrame should take the following three parameters:\n",
    "\n",
    "    - `savings_data`: Use the list that you just created.\n",
    "\n",
    "    - `columns`: Set this parameter equal to a Python list with a single value called `amount`.\n",
    "\n",
    "    - `index`: Set this parameter equal to a Python list with the values of `crypto` and `stock/bond`.\n",
    "\n",
    "3. Use the `savings_df` DataFrame to plot a pie chart that visualizes the composition of the member’s portfolio. The y-axis of the pie chart uses `amount`. Be sure to add a title.\n",
    "\n",
    "4. Using Python, determine if the current portfolio has enough to create an emergency fund as part of the member’s financial plan. Ideally, an emergency fund should equal to three times the member’s monthly income. To do this, implement the following steps:\n",
    "\n",
    "    1. Create a variable named `emergency_fund_value`, and set it equal to three times the value of the member’s `monthly_income` of $12000. (You set this earlier in Part 1).\n",
    "\n",
    "    2. Create a series of three if statements to determine if the member’s total portfolio is large enough to fund the emergency portfolio:\n",
    "\n",
    "        1. If the total portfolio value is greater than the emergency fund value, display a message congratulating the member for having enough money in this fund.\n",
    "\n",
    "        2. Else if the total portfolio value is equal to the emergency fund value, display a message congratulating the member on reaching this important financial goal.\n",
    "\n",
    "        3. Else the total portfolio is less than the emergency fund value, so display a message showing how many dollars away the member is from reaching the goal. (Subtract the total portfolio value from the emergency fund value.)\n"
   ]
  },
  {
   "cell_type": "markdown",
   "metadata": {},
   "source": [
    "#### Step 1: Create a Python list named `savings_data` that has two elements. The first element contains the total value of the cryptocurrency wallet. The second element contains the total value of the stock and bond portions of the portfolio."
   ]
  },
  {
   "cell_type": "code",
   "execution_count": 27,
   "metadata": {},
   "outputs": [
    {
     "data": {
      "text/plain": [
       "[42358.465, 60688.7]"
      ]
     },
     "execution_count": 27,
     "metadata": {},
     "output_type": "execute_result"
    }
   ],
   "source": [
    "# Consolidate financial assets data into a Python list\n",
    "savings_data = [total_crypto_wallet, total_stocks_bonds]\n",
    "\n",
    "# Review the Python list savings_data\n",
    "savings_data\n",
    "    "
   ]
  },
  {
   "cell_type": "markdown",
   "metadata": {},
   "source": [
    "#### Step 2: Use the `savings_data` list to create a Pandas DataFrame named `savings_df`, and then display this DataFrame. The function to create the DataFrame should take the following three parameters:\n",
    "\n",
    "- `savings_data`: Use the list that you just created.\n",
    "\n",
    "- `columns`: Set this parameter equal to a Python list with a single value called `amount`.\n",
    "\n",
    "- `index`: Set this parameter equal to a Python list with the values of `crypto` and `stock/bond`.\n"
   ]
  },
  {
   "cell_type": "code",
   "execution_count": 28,
   "metadata": {},
   "outputs": [
    {
     "data": {
      "text/html": [
       "<div>\n",
       "<style scoped>\n",
       "    .dataframe tbody tr th:only-of-type {\n",
       "        vertical-align: middle;\n",
       "    }\n",
       "\n",
       "    .dataframe tbody tr th {\n",
       "        vertical-align: top;\n",
       "    }\n",
       "\n",
       "    .dataframe thead th {\n",
       "        text-align: right;\n",
       "    }\n",
       "</style>\n",
       "<table border=\"1\" class=\"dataframe\">\n",
       "  <thead>\n",
       "    <tr style=\"text-align: right;\">\n",
       "      <th></th>\n",
       "      <th>amount</th>\n",
       "    </tr>\n",
       "  </thead>\n",
       "  <tbody>\n",
       "    <tr>\n",
       "      <th>Crypto Wallet</th>\n",
       "      <td>42358.465</td>\n",
       "    </tr>\n",
       "    <tr>\n",
       "      <th>Stocks and Bonds</th>\n",
       "      <td>60688.700</td>\n",
       "    </tr>\n",
       "  </tbody>\n",
       "</table>\n",
       "</div>"
      ],
      "text/plain": [
       "                     amount\n",
       "Crypto Wallet     42358.465\n",
       "Stocks and Bonds  60688.700"
      ]
     },
     "execution_count": 28,
     "metadata": {},
     "output_type": "execute_result"
    }
   ],
   "source": [
    "# Create a Pandas DataFrame called savings_df \n",
    "savings_df = pd.DataFrame( {'amount':[total_crypto_wallet, total_stocks_bonds]},\n",
    "    index=['Crypto Wallet', 'Stocks and Bonds'])\n",
    "\n",
    "# Display the savings_df DataFrame\n",
    "savings_df\n"
   ]
  },
  {
   "cell_type": "markdown",
   "metadata": {},
   "source": [
    "#### Step 3: Use the `savings_df` DataFrame to plot a pie chart that visualizes the composition of the member’s portfolio. The y-axis of the pie chart uses `amount`. Be sure to add a title."
   ]
  },
  {
   "cell_type": "code",
   "execution_count": 29,
   "metadata": {},
   "outputs": [
    {
     "data": {
      "text/plain": [
       "<AxesSubplot: title={'center': 'Total Value of Members Portfolio, 2020-08-07'}, ylabel='amount'>"
      ]
     },
     "execution_count": 29,
     "metadata": {},
     "output_type": "execute_result"
    },
    {
     "data": {
      "image/png": "[encoded data removed]",
      "text/plain": [
       "<Figure size 640x480 with 1 Axes>"
      ]
     },
     "metadata": {},
     "output_type": "display_data"
    }
   ],
   "source": [
    "# Plot the total value of the member's portfolio (crypto and stock/bond) in a pie chart\n",
    "savings_df.plot.pie(y='amount', title='Total Value of Members Portfolio, 2020-08-07')"
   ]
  },
  {
   "cell_type": "markdown",
   "metadata": {},
   "source": [
    "#### Step 4: Using Python, determine if the current portfolio has enough to create an emergency fund as part of the member’s financial plan. Ideally, an emergency fund should equal to three times the member’s monthly income. To do this, implement the following steps:\n",
    "\n",
    "Step 1. Create a variable named `emergency_fund_value`, and set it equal to three times the value of the member’s `monthly_income` of 12000. (You set this earlier in Part 1).\n",
    "\n",
    "Step 2. Create a series of three if statements to determine if the member’s total portfolio is large enough to fund the emergency portfolio:\n",
    "\n",
    "* If the total portfolio value is greater than the emergency fund value, display a message congratulating the member for having enough money in this fund.\n",
    "\n",
    "* Else if the total portfolio value is equal to the emergency fund value, display a message congratulating the member on reaching this important financial goal.\n",
    "\n",
    "* Else the total portfolio is less than the emergency fund value, so display a message showing how many dollars away the member is from reaching the goal. (Subtract the total portfolio value from the emergency fund value.)\n"
   ]
  },
  {
   "cell_type": "markdown",
   "metadata": {},
   "source": [
    "##### Step 4-1: Create a variable named `emergency_fund_value`, and set it equal to three times the value of the member’s `monthly_income` of 12000. (You set this earlier in Part 1)."
   ]
  },
  {
   "cell_type": "code",
   "execution_count": 30,
   "metadata": {},
   "outputs": [],
   "source": [
    "# Create a variable named emergency_fund_value\n",
    "emergency_fund_value = monthly_income *3\n"
   ]
  },
  {
   "cell_type": "markdown",
   "metadata": {},
   "source": [
    "##### Step 4-2: Create a series of three if statements to determine if the member’s total portfolio is large enough to fund the emergency portfolio:\n",
    "\n",
    "* If the total portfolio value is greater than the emergency fund value, display a message congratulating the member for having enough money in this fund.\n",
    "\n",
    "* Else if the total portfolio value is equal to the emergency fund value, display a message congratulating the member on reaching this important financial goal.\n",
    "\n",
    "* Else the total portfolio is less than the emergency fund value, so display a message showing how many dollars away the member is from reaching the goal. (Subtract the total portfolio value from the emergency fund value.)"
   ]
  },
  {
   "cell_type": "code",
   "execution_count": 31,
   "metadata": {},
   "outputs": [
    {
     "name": "stdout",
     "output_type": "stream",
     "text": [
      "Congratulations! You have enough money in this fund.\n"
     ]
    }
   ],
   "source": [
    "# Evaluate the possibility of creating an emergency fund with 3 conditions:\n",
    "total_portfolio_value = (total_crypto_wallet +total_stocks_bonds)\n",
    "\n",
    "if total_portfolio_value > emergency_fund_value:\n",
    "    print(\"Congratulations! You have enough money in this fund.\")\n",
    "elif total_porfolio_value == emergency_fund_value:\n",
    "    print(\"Congratulations! This is an important financial milestone.\")\n",
    "else:\n",
    "    difference = emergency_fund_value - total_portfolio_value\n",
    "    print(f\"You are ${difference} away from reaching your emergency fund goal.\")\n"
   ]
  },
  {
   "cell_type": "markdown",
   "metadata": {},
   "source": [
    "## Part 2: Create a Financial Planner for Retirement"
   ]
  },
  {
   "cell_type": "markdown",
   "metadata": {},
   "source": [
    "### Create the Monte Carlo Simulation\n",
    "\n",
    "In this section, you’ll use the MCForecastTools library to create a Monte Carlo simulation for the member’s savings portfolio. To do this, complete the following steps:\n",
    "\n",
    "1. Make an API call via the Alpaca SDK to get 3 years of historical closing prices for a traditional 60/40 portfolio split: 60% stocks (SPY) and 40% bonds (AGG).\n",
    "\n",
    "2. Run a Monte Carlo simulation of 500 samples and 30 years for the 60/40 portfolio, and then plot the results.The following image shows the overlay line plot resulting from a simulation with these characteristics. However, because a random number generator is used to run each live Monte Carlo simulation, your image will differ slightly from this exact image:\n",
    "\n",
    "![A screenshot depicts the resulting plot.](Images/5-4-monte-carlo-line-plot.png)\n",
    "\n",
    "3. Plot the probability distribution of the Monte Carlo simulation. Plot the probability distribution of the Monte Carlo simulation. The following image shows the histogram plot resulting from a simulation with these characteristics. However, because a random number generator is used to run each live Monte Carlo simulation, your image will differ slightly from this exact image:\n",
    "\n",
    "![A screenshot depicts the histogram plot.](Images/5-4-monte-carlo-histogram.png)\n",
    "\n",
    "4. Generate the summary statistics for the Monte Carlo simulation.\n",
    "\n"
   ]
  },
  {
   "cell_type": "markdown",
   "metadata": {},
   "source": [
    "#### Step 1: Make an API call via the Alpaca SDK to get 3 years of historical closing prices for a traditional 60/40 portfolio split: 60% stocks (SPY) and 40% bonds (AGG)."
   ]
  },
  {
   "cell_type": "code",
   "execution_count": 32,
   "metadata": {},
   "outputs": [],
   "source": [
    "# Set start and end dates of 3 years back from your current date\n",
    "# Alternatively, you can use an end date of 2020-08-07 and work 3 years back from that date \n",
    "new_start_date = pd.Timestamp(\"2017-08-07\", tz=\"America/New_York\").isoformat()\n",
    "new_end_date = pd.Timestamp(\"2020-08-07\", tz=\"America/New_York\").isoformat()"
   ]
  },
  {
   "cell_type": "code",
   "execution_count": 33,
   "metadata": {},
   "outputs": [
    {
     "data": {
      "text/html": [
       "<div>\n",
       "<style scoped>\n",
       "    .dataframe tbody tr th:only-of-type {\n",
       "        vertical-align: middle;\n",
       "    }\n",
       "\n",
       "    .dataframe tbody tr th {\n",
       "        vertical-align: top;\n",
       "    }\n",
       "\n",
       "    .dataframe thead tr th {\n",
       "        text-align: left;\n",
       "    }\n",
       "\n",
       "    .dataframe thead tr:last-of-type th {\n",
       "        text-align: right;\n",
       "    }\n",
       "</style>\n",
       "<table border=\"1\" class=\"dataframe\">\n",
       "  <thead>\n",
       "    <tr>\n",
       "      <th></th>\n",
       "      <th colspan=\"7\" halign=\"left\">SPY</th>\n",
       "      <th colspan=\"7\" halign=\"left\">AGG</th>\n",
       "    </tr>\n",
       "    <tr>\n",
       "      <th></th>\n",
       "      <th>open</th>\n",
       "      <th>high</th>\n",
       "      <th>low</th>\n",
       "      <th>close</th>\n",
       "      <th>volume</th>\n",
       "      <th>trade_count</th>\n",
       "      <th>vwap</th>\n",
       "      <th>open</th>\n",
       "      <th>high</th>\n",
       "      <th>low</th>\n",
       "      <th>close</th>\n",
       "      <th>volume</th>\n",
       "      <th>trade_count</th>\n",
       "      <th>vwap</th>\n",
       "    </tr>\n",
       "    <tr>\n",
       "      <th>timestamp</th>\n",
       "      <th></th>\n",
       "      <th></th>\n",
       "      <th></th>\n",
       "      <th></th>\n",
       "      <th></th>\n",
       "      <th></th>\n",
       "      <th></th>\n",
       "      <th></th>\n",
       "      <th></th>\n",
       "      <th></th>\n",
       "      <th></th>\n",
       "      <th></th>\n",
       "      <th></th>\n",
       "      <th></th>\n",
       "    </tr>\n",
       "  </thead>\n",
       "  <tbody>\n",
       "    <tr>\n",
       "      <th>2020-08-03 04:00:00+00:00</th>\n",
       "      <td>328.3200</td>\n",
       "      <td>329.62</td>\n",
       "      <td>327.73</td>\n",
       "      <td>328.67</td>\n",
       "      <td>53078112</td>\n",
       "      <td>288003</td>\n",
       "      <td>328.658795</td>\n",
       "      <td>119.37</td>\n",
       "      <td>119.40</td>\n",
       "      <td>119.1903</td>\n",
       "      <td>119.40</td>\n",
       "      <td>13014535</td>\n",
       "      <td>36359</td>\n",
       "      <td>119.282420</td>\n",
       "    </tr>\n",
       "    <tr>\n",
       "      <th>2020-08-04 04:00:00+00:00</th>\n",
       "      <td>327.8600</td>\n",
       "      <td>330.06</td>\n",
       "      <td>327.86</td>\n",
       "      <td>330.00</td>\n",
       "      <td>41917896</td>\n",
       "      <td>250899</td>\n",
       "      <td>329.057592</td>\n",
       "      <td>119.42</td>\n",
       "      <td>119.63</td>\n",
       "      <td>119.4200</td>\n",
       "      <td>119.63</td>\n",
       "      <td>10935154</td>\n",
       "      <td>39113</td>\n",
       "      <td>119.541666</td>\n",
       "    </tr>\n",
       "    <tr>\n",
       "      <th>2020-08-05 04:00:00+00:00</th>\n",
       "      <td>331.4700</td>\n",
       "      <td>332.39</td>\n",
       "      <td>331.18</td>\n",
       "      <td>332.03</td>\n",
       "      <td>42870955</td>\n",
       "      <td>241416</td>\n",
       "      <td>331.791643</td>\n",
       "      <td>119.39</td>\n",
       "      <td>119.49</td>\n",
       "      <td>119.3100</td>\n",
       "      <td>119.40</td>\n",
       "      <td>17377874</td>\n",
       "      <td>42313</td>\n",
       "      <td>119.387245</td>\n",
       "    </tr>\n",
       "    <tr>\n",
       "      <th>2020-08-06 04:00:00+00:00</th>\n",
       "      <td>331.4799</td>\n",
       "      <td>334.46</td>\n",
       "      <td>331.13</td>\n",
       "      <td>334.32</td>\n",
       "      <td>43679448</td>\n",
       "      <td>290036</td>\n",
       "      <td>332.939600</td>\n",
       "      <td>119.62</td>\n",
       "      <td>119.73</td>\n",
       "      <td>119.5300</td>\n",
       "      <td>119.57</td>\n",
       "      <td>4608710</td>\n",
       "      <td>15938</td>\n",
       "      <td>119.604199</td>\n",
       "    </tr>\n",
       "    <tr>\n",
       "      <th>2020-08-07 04:00:00+00:00</th>\n",
       "      <td>333.2800</td>\n",
       "      <td>334.88</td>\n",
       "      <td>332.30</td>\n",
       "      <td>334.57</td>\n",
       "      <td>57282821</td>\n",
       "      <td>350100</td>\n",
       "      <td>333.800372</td>\n",
       "      <td>119.66</td>\n",
       "      <td>119.73</td>\n",
       "      <td>119.3950</td>\n",
       "      <td>119.43</td>\n",
       "      <td>5559066</td>\n",
       "      <td>15246</td>\n",
       "      <td>119.475306</td>\n",
       "    </tr>\n",
       "  </tbody>\n",
       "</table>\n",
       "</div>"
      ],
      "text/plain": [
       "                                SPY                                    \\\n",
       "                               open    high     low   close    volume   \n",
       "timestamp                                                               \n",
       "2020-08-03 04:00:00+00:00  328.3200  329.62  327.73  328.67  53078112   \n",
       "2020-08-04 04:00:00+00:00  327.8600  330.06  327.86  330.00  41917896   \n",
       "2020-08-05 04:00:00+00:00  331.4700  332.39  331.18  332.03  42870955   \n",
       "2020-08-06 04:00:00+00:00  331.4799  334.46  331.13  334.32  43679448   \n",
       "2020-08-07 04:00:00+00:00  333.2800  334.88  332.30  334.57  57282821   \n",
       "\n",
       "                                                      AGG                    \\\n",
       "                          trade_count        vwap    open    high       low   \n",
       "timestamp                                                                     \n",
       "2020-08-03 04:00:00+00:00      288003  328.658795  119.37  119.40  119.1903   \n",
       "2020-08-04 04:00:00+00:00      250899  329.057592  119.42  119.63  119.4200   \n",
       "2020-08-05 04:00:00+00:00      241416  331.791643  119.39  119.49  119.3100   \n",
       "2020-08-06 04:00:00+00:00      290036  332.939600  119.62  119.73  119.5300   \n",
       "2020-08-07 04:00:00+00:00      350100  333.800372  119.66  119.73  119.3950   \n",
       "\n",
       "                                                                     \n",
       "                            close    volume trade_count        vwap  \n",
       "timestamp                                                            \n",
       "2020-08-03 04:00:00+00:00  119.40  13014535       36359  119.282420  \n",
       "2020-08-04 04:00:00+00:00  119.63  10935154       39113  119.541666  \n",
       "2020-08-05 04:00:00+00:00  119.40  17377874       42313  119.387245  \n",
       "2020-08-06 04:00:00+00:00  119.57   4608710       15938  119.604199  \n",
       "2020-08-07 04:00:00+00:00  119.43   5559066       15246  119.475306  "
      ]
     },
     "execution_count": 33,
     "metadata": {},
     "output_type": "execute_result"
    }
   ],
   "source": [
    "# Use the Alpaca get_bars function to make the API call to get the 3 years worth of pricing data\n",
    "# The tickers and timeframe parameters should have been set in Part 1 of this activity \n",
    "# The start and end dates should be updated with the information set above\n",
    "# Remember to add the df property to the end of the call so the response is returned as a DataFrame\n",
    "new_prices_df = alpaca.get_bars(\n",
    "    tickers,\n",
    "    timeframe,\n",
    "    start=new_start_date,\n",
    "    end=new_end_date\n",
    ").df\n",
    "\n",
    "# Reorganize the DataFrame\n",
    "# Separate ticker data\n",
    "AGG = new_prices_df[new_prices_df['symbol']=='AGG'].drop('symbol', axis=1)\n",
    "SPY = new_prices_df[new_prices_df['symbol']=='SPY'].drop('symbol', axis=1)\n",
    "\n",
    "# Concatenate the ticker DataFrames\n",
    "new_prices_df = pd.concat([SPY, AGG], axis=1, keys=[\"SPY\", \"AGG\"])\n",
    "\n",
    "# Display both the first and last five rows of the DataFrame\n",
    "new_prices_df.head()\n",
    "new_prices_df.tail()\n"
   ]
  },
  {
   "cell_type": "markdown",
   "metadata": {},
   "source": [
    "#### Step 2: Run a Monte Carlo simulation of 500 samples and 30 years for the 60/40 portfolio, and then plot the results."
   ]
  },
  {
   "cell_type": "code",
   "execution_count": 34,
   "metadata": {},
   "outputs": [
    {
     "data": {
      "text/plain": [
       "<MCForecastTools.MCSimulation at 0x7fb210e63730>"
      ]
     },
     "execution_count": 34,
     "metadata": {},
     "output_type": "execute_result"
    }
   ],
   "source": [
    "# Configure the Monte Carlo simulation to forecast 30 years cumulative returns\n",
    "# The weights should be split 40% to AGG and 60% to SPY.\n",
    "# Run 500 samples.\n",
    "thirty_yr_MC = MCSimulation(\n",
    "    portfolio_data = new_prices_df,\n",
    "    weights = [.60,.40],\n",
    "    num_simulation = 100,\n",
    "    num_trading_days = 252*30\n",
    ")\n",
    "\n",
    "# Review the simulation input data\n",
    "thirty_yr_MC"
   ]
  },
  {
   "cell_type": "code",
   "execution_count": 35,
   "metadata": {},
   "outputs": [
    {
     "name": "stdout",
     "output_type": "stream",
     "text": [
      "Running Monte Carlo simulation number 0.\n",
      "Running Monte Carlo simulation number 10.\n",
      "Running Monte Carlo simulation number 20.\n",
      "Running Monte Carlo simulation number 30.\n",
      "Running Monte Carlo simulation number 40.\n",
      "Running Monte Carlo simulation number 50.\n",
      "Running Monte Carlo simulation number 60.\n",
      "Running Monte Carlo simulation number 70.\n",
      "Running Monte Carlo simulation number 80.\n",
      "Running Monte Carlo simulation number 90.\n"
     ]
    },
    {
     "data": {
      "text/html": [
       "<div>\n",
       "<style scoped>\n",
       "    .dataframe tbody tr th:only-of-type {\n",
       "        vertical-align: middle;\n",
       "    }\n",
       "\n",
       "    .dataframe tbody tr th {\n",
       "        vertical-align: top;\n",
       "    }\n",
       "\n",
       "    .dataframe thead th {\n",
       "        text-align: right;\n",
       "    }\n",
       "</style>\n",
       "<table border=\"1\" class=\"dataframe\">\n",
       "  <thead>\n",
       "    <tr style=\"text-align: right;\">\n",
       "      <th></th>\n",
       "      <th>0</th>\n",
       "      <th>1</th>\n",
       "      <th>2</th>\n",
       "      <th>3</th>\n",
       "      <th>4</th>\n",
       "      <th>5</th>\n",
       "      <th>6</th>\n",
       "      <th>7</th>\n",
       "      <th>8</th>\n",
       "      <th>9</th>\n",
       "      <th>...</th>\n",
       "      <th>90</th>\n",
       "      <th>91</th>\n",
       "      <th>92</th>\n",
       "      <th>93</th>\n",
       "      <th>94</th>\n",
       "      <th>95</th>\n",
       "      <th>96</th>\n",
       "      <th>97</th>\n",
       "      <th>98</th>\n",
       "      <th>99</th>\n",
       "    </tr>\n",
       "  </thead>\n",
       "  <tbody>\n",
       "    <tr>\n",
       "      <th>0</th>\n",
       "      <td>1.000000</td>\n",
       "      <td>1.000000</td>\n",
       "      <td>1.000000</td>\n",
       "      <td>1.000000</td>\n",
       "      <td>1.000000</td>\n",
       "      <td>1.000000</td>\n",
       "      <td>1.000000</td>\n",
       "      <td>1.000000</td>\n",
       "      <td>1.000000</td>\n",
       "      <td>1.000000</td>\n",
       "      <td>...</td>\n",
       "      <td>1.000000</td>\n",
       "      <td>1.000000</td>\n",
       "      <td>1.000000</td>\n",
       "      <td>1.000000</td>\n",
       "      <td>1.000000</td>\n",
       "      <td>1.000000</td>\n",
       "      <td>1.000000</td>\n",
       "      <td>1.000000</td>\n",
       "      <td>1.000000</td>\n",
       "      <td>1.000000</td>\n",
       "    </tr>\n",
       "    <tr>\n",
       "      <th>1</th>\n",
       "      <td>0.996033</td>\n",
       "      <td>0.997816</td>\n",
       "      <td>1.002352</td>\n",
       "      <td>0.991093</td>\n",
       "      <td>1.005346</td>\n",
       "      <td>0.990516</td>\n",
       "      <td>0.995186</td>\n",
       "      <td>1.003548</td>\n",
       "      <td>1.011252</td>\n",
       "      <td>0.992123</td>\n",
       "      <td>...</td>\n",
       "      <td>0.999905</td>\n",
       "      <td>0.993421</td>\n",
       "      <td>1.006827</td>\n",
       "      <td>0.997374</td>\n",
       "      <td>1.011581</td>\n",
       "      <td>0.992369</td>\n",
       "      <td>0.979603</td>\n",
       "      <td>1.002020</td>\n",
       "      <td>1.000088</td>\n",
       "      <td>0.997996</td>\n",
       "    </tr>\n",
       "    <tr>\n",
       "      <th>2</th>\n",
       "      <td>1.001284</td>\n",
       "      <td>0.995512</td>\n",
       "      <td>0.999826</td>\n",
       "      <td>0.984489</td>\n",
       "      <td>0.999699</td>\n",
       "      <td>0.989334</td>\n",
       "      <td>1.003070</td>\n",
       "      <td>1.010492</td>\n",
       "      <td>1.015218</td>\n",
       "      <td>0.989087</td>\n",
       "      <td>...</td>\n",
       "      <td>0.998646</td>\n",
       "      <td>0.994318</td>\n",
       "      <td>1.013459</td>\n",
       "      <td>1.003323</td>\n",
       "      <td>1.013578</td>\n",
       "      <td>0.990025</td>\n",
       "      <td>0.978603</td>\n",
       "      <td>0.991484</td>\n",
       "      <td>1.010072</td>\n",
       "      <td>0.999789</td>\n",
       "    </tr>\n",
       "    <tr>\n",
       "      <th>3</th>\n",
       "      <td>1.002162</td>\n",
       "      <td>0.994495</td>\n",
       "      <td>0.999715</td>\n",
       "      <td>0.977541</td>\n",
       "      <td>0.990653</td>\n",
       "      <td>0.995071</td>\n",
       "      <td>1.005521</td>\n",
       "      <td>1.016643</td>\n",
       "      <td>1.018189</td>\n",
       "      <td>0.989855</td>\n",
       "      <td>...</td>\n",
       "      <td>0.974970</td>\n",
       "      <td>0.989057</td>\n",
       "      <td>1.027196</td>\n",
       "      <td>0.995645</td>\n",
       "      <td>1.017204</td>\n",
       "      <td>0.994232</td>\n",
       "      <td>0.979733</td>\n",
       "      <td>0.981256</td>\n",
       "      <td>1.017277</td>\n",
       "      <td>1.019931</td>\n",
       "    </tr>\n",
       "    <tr>\n",
       "      <th>4</th>\n",
       "      <td>0.997362</td>\n",
       "      <td>1.001307</td>\n",
       "      <td>1.016377</td>\n",
       "      <td>0.980516</td>\n",
       "      <td>1.002705</td>\n",
       "      <td>0.995305</td>\n",
       "      <td>0.995637</td>\n",
       "      <td>1.014893</td>\n",
       "      <td>1.017589</td>\n",
       "      <td>0.983237</td>\n",
       "      <td>...</td>\n",
       "      <td>0.962636</td>\n",
       "      <td>0.986568</td>\n",
       "      <td>1.039267</td>\n",
       "      <td>0.994868</td>\n",
       "      <td>1.028834</td>\n",
       "      <td>0.982516</td>\n",
       "      <td>0.983616</td>\n",
       "      <td>0.984948</td>\n",
       "      <td>1.000778</td>\n",
       "      <td>1.025116</td>\n",
       "    </tr>\n",
       "    <tr>\n",
       "      <th>...</th>\n",
       "      <td>...</td>\n",
       "      <td>...</td>\n",
       "      <td>...</td>\n",
       "      <td>...</td>\n",
       "      <td>...</td>\n",
       "      <td>...</td>\n",
       "      <td>...</td>\n",
       "      <td>...</td>\n",
       "      <td>...</td>\n",
       "      <td>...</td>\n",
       "      <td>...</td>\n",
       "      <td>...</td>\n",
       "      <td>...</td>\n",
       "      <td>...</td>\n",
       "      <td>...</td>\n",
       "      <td>...</td>\n",
       "      <td>...</td>\n",
       "      <td>...</td>\n",
       "      <td>...</td>\n",
       "      <td>...</td>\n",
       "      <td>...</td>\n",
       "    </tr>\n",
       "    <tr>\n",
       "      <th>7556</th>\n",
       "      <td>50.520616</td>\n",
       "      <td>12.751326</td>\n",
       "      <td>10.165382</td>\n",
       "      <td>2.713647</td>\n",
       "      <td>36.638868</td>\n",
       "      <td>3.205358</td>\n",
       "      <td>8.031742</td>\n",
       "      <td>4.903181</td>\n",
       "      <td>2.612161</td>\n",
       "      <td>11.437556</td>\n",
       "      <td>...</td>\n",
       "      <td>5.773960</td>\n",
       "      <td>11.649346</td>\n",
       "      <td>21.435928</td>\n",
       "      <td>5.111341</td>\n",
       "      <td>3.466351</td>\n",
       "      <td>5.469102</td>\n",
       "      <td>4.133249</td>\n",
       "      <td>13.806734</td>\n",
       "      <td>8.129447</td>\n",
       "      <td>4.562379</td>\n",
       "    </tr>\n",
       "    <tr>\n",
       "      <th>7557</th>\n",
       "      <td>51.470054</td>\n",
       "      <td>12.808600</td>\n",
       "      <td>10.165603</td>\n",
       "      <td>2.731641</td>\n",
       "      <td>36.566850</td>\n",
       "      <td>3.197934</td>\n",
       "      <td>8.068062</td>\n",
       "      <td>4.888484</td>\n",
       "      <td>2.606952</td>\n",
       "      <td>11.511631</td>\n",
       "      <td>...</td>\n",
       "      <td>5.657390</td>\n",
       "      <td>11.705930</td>\n",
       "      <td>21.291596</td>\n",
       "      <td>5.131022</td>\n",
       "      <td>3.466567</td>\n",
       "      <td>5.492981</td>\n",
       "      <td>4.156428</td>\n",
       "      <td>13.892857</td>\n",
       "      <td>8.250299</td>\n",
       "      <td>4.569868</td>\n",
       "    </tr>\n",
       "    <tr>\n",
       "      <th>7558</th>\n",
       "      <td>52.372491</td>\n",
       "      <td>12.986725</td>\n",
       "      <td>10.118736</td>\n",
       "      <td>2.759461</td>\n",
       "      <td>36.581016</td>\n",
       "      <td>3.181672</td>\n",
       "      <td>8.112318</td>\n",
       "      <td>4.881429</td>\n",
       "      <td>2.563535</td>\n",
       "      <td>11.315934</td>\n",
       "      <td>...</td>\n",
       "      <td>5.644007</td>\n",
       "      <td>11.706341</td>\n",
       "      <td>21.152868</td>\n",
       "      <td>5.135583</td>\n",
       "      <td>3.455718</td>\n",
       "      <td>5.587621</td>\n",
       "      <td>4.181073</td>\n",
       "      <td>13.986141</td>\n",
       "      <td>8.273202</td>\n",
       "      <td>4.523884</td>\n",
       "    </tr>\n",
       "    <tr>\n",
       "      <th>7559</th>\n",
       "      <td>51.915621</td>\n",
       "      <td>13.003069</td>\n",
       "      <td>9.944080</td>\n",
       "      <td>2.805695</td>\n",
       "      <td>36.357288</td>\n",
       "      <td>3.211532</td>\n",
       "      <td>8.096314</td>\n",
       "      <td>4.886631</td>\n",
       "      <td>2.514237</td>\n",
       "      <td>11.242557</td>\n",
       "      <td>...</td>\n",
       "      <td>5.584238</td>\n",
       "      <td>11.924762</td>\n",
       "      <td>21.112230</td>\n",
       "      <td>5.042979</td>\n",
       "      <td>3.490598</td>\n",
       "      <td>5.642232</td>\n",
       "      <td>4.180549</td>\n",
       "      <td>13.976367</td>\n",
       "      <td>8.258493</td>\n",
       "      <td>4.540389</td>\n",
       "    </tr>\n",
       "    <tr>\n",
       "      <th>7560</th>\n",
       "      <td>51.988466</td>\n",
       "      <td>12.877762</td>\n",
       "      <td>10.042332</td>\n",
       "      <td>2.815386</td>\n",
       "      <td>35.990645</td>\n",
       "      <td>3.205352</td>\n",
       "      <td>8.170073</td>\n",
       "      <td>4.911142</td>\n",
       "      <td>2.532055</td>\n",
       "      <td>11.318184</td>\n",
       "      <td>...</td>\n",
       "      <td>5.594614</td>\n",
       "      <td>11.899561</td>\n",
       "      <td>21.056085</td>\n",
       "      <td>5.028059</td>\n",
       "      <td>3.478353</td>\n",
       "      <td>5.666966</td>\n",
       "      <td>4.265139</td>\n",
       "      <td>14.011047</td>\n",
       "      <td>8.293365</td>\n",
       "      <td>4.570507</td>\n",
       "    </tr>\n",
       "  </tbody>\n",
       "</table>\n",
       "<p>7561 rows × 100 columns</p>\n",
       "</div>"
      ],
      "text/plain": [
       "             0          1          2         3          4         5   \\\n",
       "0      1.000000   1.000000   1.000000  1.000000   1.000000  1.000000   \n",
       "1      0.996033   0.997816   1.002352  0.991093   1.005346  0.990516   \n",
       "2      1.001284   0.995512   0.999826  0.984489   0.999699  0.989334   \n",
       "3      1.002162   0.994495   0.999715  0.977541   0.990653  0.995071   \n",
       "4      0.997362   1.001307   1.016377  0.980516   1.002705  0.995305   \n",
       "...         ...        ...        ...       ...        ...       ...   \n",
       "7556  50.520616  12.751326  10.165382  2.713647  36.638868  3.205358   \n",
       "7557  51.470054  12.808600  10.165603  2.731641  36.566850  3.197934   \n",
       "7558  52.372491  12.986725  10.118736  2.759461  36.581016  3.181672   \n",
       "7559  51.915621  13.003069   9.944080  2.805695  36.357288  3.211532   \n",
       "7560  51.988466  12.877762  10.042332  2.815386  35.990645  3.205352   \n",
       "\n",
       "            6         7         8          9   ...        90         91  \\\n",
       "0     1.000000  1.000000  1.000000   1.000000  ...  1.000000   1.000000   \n",
       "1     0.995186  1.003548  1.011252   0.992123  ...  0.999905   0.993421   \n",
       "2     1.003070  1.010492  1.015218   0.989087  ...  0.998646   0.994318   \n",
       "3     1.005521  1.016643  1.018189   0.989855  ...  0.974970   0.989057   \n",
       "4     0.995637  1.014893  1.017589   0.983237  ...  0.962636   0.986568   \n",
       "...        ...       ...       ...        ...  ...       ...        ...   \n",
       "7556  8.031742  4.903181  2.612161  11.437556  ...  5.773960  11.649346   \n",
       "7557  8.068062  4.888484  2.606952  11.511631  ...  5.657390  11.705930   \n",
       "7558  8.112318  4.881429  2.563535  11.315934  ...  5.644007  11.706341   \n",
       "7559  8.096314  4.886631  2.514237  11.242557  ...  5.584238  11.924762   \n",
       "7560  8.170073  4.911142  2.532055  11.318184  ...  5.594614  11.899561   \n",
       "\n",
       "             92        93        94        95        96         97        98  \\\n",
       "0      1.000000  1.000000  1.000000  1.000000  1.000000   1.000000  1.000000   \n",
       "1      1.006827  0.997374  1.011581  0.992369  0.979603   1.002020  1.000088   \n",
       "2      1.013459  1.003323  1.013578  0.990025  0.978603   0.991484  1.010072   \n",
       "3      1.027196  0.995645  1.017204  0.994232  0.979733   0.981256  1.017277   \n",
       "4      1.039267  0.994868  1.028834  0.982516  0.983616   0.984948  1.000778   \n",
       "...         ...       ...       ...       ...       ...        ...       ...   \n",
       "7556  21.435928  5.111341  3.466351  5.469102  4.133249  13.806734  8.129447   \n",
       "7557  21.291596  5.131022  3.466567  5.492981  4.156428  13.892857  8.250299   \n",
       "7558  21.152868  5.135583  3.455718  5.587621  4.181073  13.986141  8.273202   \n",
       "7559  21.112230  5.042979  3.490598  5.642232  4.180549  13.976367  8.258493   \n",
       "7560  21.056085  5.028059  3.478353  5.666966  4.265139  14.011047  8.293365   \n",
       "\n",
       "            99  \n",
       "0     1.000000  \n",
       "1     0.997996  \n",
       "2     0.999789  \n",
       "3     1.019931  \n",
       "4     1.025116  \n",
       "...        ...  \n",
       "7556  4.562379  \n",
       "7557  4.569868  \n",
       "7558  4.523884  \n",
       "7559  4.540389  \n",
       "7560  4.570507  \n",
       "\n",
       "[7561 rows x 100 columns]"
      ]
     },
     "execution_count": 35,
     "metadata": {},
     "output_type": "execute_result"
    }
   ],
   "source": [
    "# Run the Monte Carlo simulation to forecast 30 years cumulative returns\n",
    "thirty_yr_MC.calc_cumulative_return()"
   ]
  },
  {
   "cell_type": "code",
   "execution_count": 36,
   "metadata": {},
   "outputs": [
    {
     "data": {
      "image/png": "[encoded data removed]",
      "text/plain": [
       "<Figure size 640x480 with 1 Axes>"
      ]
     },
     "metadata": {},
     "output_type": "display_data"
    }
   ],
   "source": [
    "# Visualize the 30-year Monte Carlo simulation by creating an\n",
    "# overlay line plot\n",
    "plot = thirty_yr_MC.plot_simulation()\n"
   ]
  },
  {
   "cell_type": "markdown",
   "metadata": {},
   "source": [
    "#### Step 3: Plot the probability distribution of the Monte Carlo simulation."
   ]
  },
  {
   "cell_type": "code",
   "execution_count": 37,
   "metadata": {},
   "outputs": [
    {
     "data": {
      "image/png": "[encoded data removed]",
      "text/plain": [
       "<Figure size 640x480 with 1 Axes>"
      ]
     },
     "metadata": {},
     "output_type": "display_data"
    }
   ],
   "source": [
    "# Visualize the probability distribution of the 30-year Monte Carlo simulation \n",
    "# by plotting a histogram\n",
    "Hist_plot = thirty_yr_MC.plot_distribution()"
   ]
  },
  {
   "cell_type": "markdown",
   "metadata": {},
   "source": [
    "#### Step 4: Generate the summary statistics for the Monte Carlo simulation."
   ]
  },
  {
   "cell_type": "code",
   "execution_count": 38,
   "metadata": {},
   "outputs": [
    {
     "name": "stdout",
     "output_type": "stream",
     "text": [
      "count           100.000000\n",
      "mean             12.901066\n",
      "std              11.277905\n",
      "min               1.575806\n",
      "25%               5.555258\n",
      "50%              10.117783\n",
      "75%              16.453568\n",
      "max              70.619315\n",
      "95% CI Lower      2.195756\n",
      "95% CI Upper     50.710611\n",
      "Name: 7560, dtype: float64\n"
     ]
    },
    {
     "name": "stderr",
     "output_type": "stream",
     "text": [
      "/Users/carygutknecht/Desktop/MOD5/MCForecastTools.py:172: FutureWarning: The series.append method is deprecated and will be removed from pandas in a future version. Use pandas.concat instead.\n",
      "  return metrics.append(ci_series)\n"
     ]
    }
   ],
   "source": [
    "# Generate summary statistics from the 30-year Monte Carlo simulation results\n",
    "# Save the results as a variable\n",
    "MC_statistics = thirty_yr_MC.summarize_cumulative_return()\n",
    "\n",
    "\n",
    "# Review the 30-year Monte Carlo summary statistics\n",
    "print(MC_statistics)"
   ]
  },
  {
   "cell_type": "markdown",
   "metadata": {},
   "source": [
    "### Analyze the Retirement Portfolio Forecasts\n",
    "\n",
    "Using the current value of only the stock and bond portion of the member's portfolio and the summary statistics that you generated from the Monte Carlo simulation, answer the following question in your Jupyter notebook:\n",
    "\n",
    "-  What are the lower and upper bounds for the expected value of the portfolio with a 95% confidence interval?\n"
   ]
  },
  {
   "cell_type": "code",
   "execution_count": 39,
   "metadata": {},
   "outputs": [
    {
     "name": "stdout",
     "output_type": "stream",
     "text": [
      "The current balance of the stock and bond portion of the members portfolio is $103047.165\n"
     ]
    }
   ],
   "source": [
    "# Print the current balance of the stock and bond portion of the members portfolio\n",
    "print(f\"The current balance of the stock and bond portion of the members portfolio is ${total_portfolio_value}\")"
   ]
  },
  {
   "cell_type": "code",
   "execution_count": 40,
   "metadata": {},
   "outputs": [
    {
     "name": "stdout",
     "output_type": "stream",
     "text": [
      "There is a 95% chance that your current Portfolio will have a value between $226266.41 and $5225584.72 in the 30 years.\n"
     ]
    }
   ],
   "source": [
    "# Use the lower and upper `95%` confidence intervals to calculate the range of the possible outcomes for the current stock/bond portfolio\n",
    "ci_lower_thirty_cumulative_return = MC_statistics[8] * total_portfolio_value\n",
    "ci_upper_thirty_cumulative_return = MC_statistics[9] * total_portfolio_value\n",
    "\n",
    "# Print the result of your calculations\n",
    "print(f\"There is a 95% chance that your current Portfolio will have a value between ${ci_lower_thirty_cumulative_return:.2f} and ${ci_upper_thirty_cumulative_return:.2f} in the 30 years.\")"
   ]
  },
  {
   "cell_type": "markdown",
   "metadata": {},
   "source": [
    "### Forecast Cumulative Returns in 10 Years\n",
    "\n",
    "The CTO of the credit union is impressed with your work on these planning tools but wonders if 30 years is a long time to wait until retirement. So, your next task is to adjust the retirement portfolio and run a new Monte Carlo simulation to find out if the changes will allow members to retire earlier.\n",
    "\n",
    "For this new Monte Carlo simulation, do the following: \n",
    "\n",
    "- Forecast the cumulative returns for 10 years from now. Because of the shortened investment horizon (30 years to 10 years), the portfolio needs to invest more heavily in the riskier asset&mdash;that is, stock&mdash;to help accumulate wealth for retirement. \n",
    "\n",
    "- Adjust the weights of the retirement portfolio so that the composition for the Monte Carlo simulation consists of 20% bonds and 80% stocks. \n",
    "\n",
    "- Run the simulation over 500 samples, and use the same data that the API call to Alpaca generated.\n",
    "\n",
    "- Based on the new Monte Carlo simulation, answer the following questions in your Jupyter notebook:\n",
    "\n",
    "    - Using the current value of only the stock and bond portion of the member's portfolio and the summary statistics that you generated from the new Monte Carlo simulation, what are the lower and upper bounds for the expected value of the portfolio (with the new weights) with a 95% confidence interval?\n",
    "\n",
    "    - Will weighting the portfolio more heavily toward stocks allow the credit union members to retire after only 10 years?\n"
   ]
  },
  {
   "cell_type": "code",
   "execution_count": 41,
   "metadata": {},
   "outputs": [
    {
     "data": {
      "text/plain": [
       "<MCForecastTools.MCSimulation at 0x7fb222079600>"
      ]
     },
     "execution_count": 41,
     "metadata": {},
     "output_type": "execute_result"
    }
   ],
   "source": [
    "# Configure a Monte Carlo simulation to forecast 10 years cumulative returns\n",
    "# The weights should be split 20% to AGG and 80% to SPY.\n",
    "# Run 500 samples.\n",
    "Ten_yr_MC = MCSimulation(\n",
    "    portfolio_data = new_prices_df,\n",
    "    weights = [.80,.20],\n",
    "    num_simulation = 100,\n",
    "    num_trading_days = 252*10\n",
    ")\n",
    "\n",
    "# Review the simulation input data\n",
    "Ten_yr_MC\n"
   ]
  },
  {
   "cell_type": "code",
   "execution_count": 42,
   "metadata": {},
   "outputs": [
    {
     "name": "stdout",
     "output_type": "stream",
     "text": [
      "Running Monte Carlo simulation number 0.\n",
      "Running Monte Carlo simulation number 10.\n",
      "Running Monte Carlo simulation number 20.\n",
      "Running Monte Carlo simulation number 30.\n",
      "Running Monte Carlo simulation number 40.\n",
      "Running Monte Carlo simulation number 50.\n",
      "Running Monte Carlo simulation number 60.\n",
      "Running Monte Carlo simulation number 70.\n",
      "Running Monte Carlo simulation number 80.\n",
      "Running Monte Carlo simulation number 90.\n"
     ]
    },
    {
     "data": {
      "text/html": [
       "<div>\n",
       "<style scoped>\n",
       "    .dataframe tbody tr th:only-of-type {\n",
       "        vertical-align: middle;\n",
       "    }\n",
       "\n",
       "    .dataframe tbody tr th {\n",
       "        vertical-align: top;\n",
       "    }\n",
       "\n",
       "    .dataframe thead th {\n",
       "        text-align: right;\n",
       "    }\n",
       "</style>\n",
       "<table border=\"1\" class=\"dataframe\">\n",
       "  <thead>\n",
       "    <tr style=\"text-align: right;\">\n",
       "      <th></th>\n",
       "      <th>0</th>\n",
       "      <th>1</th>\n",
       "      <th>2</th>\n",
       "      <th>3</th>\n",
       "      <th>4</th>\n",
       "      <th>5</th>\n",
       "      <th>6</th>\n",
       "      <th>7</th>\n",
       "      <th>8</th>\n",
       "      <th>9</th>\n",
       "      <th>...</th>\n",
       "      <th>90</th>\n",
       "      <th>91</th>\n",
       "      <th>92</th>\n",
       "      <th>93</th>\n",
       "      <th>94</th>\n",
       "      <th>95</th>\n",
       "      <th>96</th>\n",
       "      <th>97</th>\n",
       "      <th>98</th>\n",
       "      <th>99</th>\n",
       "    </tr>\n",
       "  </thead>\n",
       "  <tbody>\n",
       "    <tr>\n",
       "      <th>0</th>\n",
       "      <td>1.000000</td>\n",
       "      <td>1.000000</td>\n",
       "      <td>1.000000</td>\n",
       "      <td>1.000000</td>\n",
       "      <td>1.000000</td>\n",
       "      <td>1.000000</td>\n",
       "      <td>1.000000</td>\n",
       "      <td>1.000000</td>\n",
       "      <td>1.000000</td>\n",
       "      <td>1.000000</td>\n",
       "      <td>...</td>\n",
       "      <td>1.000000</td>\n",
       "      <td>1.000000</td>\n",
       "      <td>1.000000</td>\n",
       "      <td>1.000000</td>\n",
       "      <td>1.000000</td>\n",
       "      <td>1.000000</td>\n",
       "      <td>1.000000</td>\n",
       "      <td>1.000000</td>\n",
       "      <td>1.000000</td>\n",
       "      <td>1.000000</td>\n",
       "    </tr>\n",
       "    <tr>\n",
       "      <th>1</th>\n",
       "      <td>1.001473</td>\n",
       "      <td>1.005032</td>\n",
       "      <td>0.984740</td>\n",
       "      <td>0.984927</td>\n",
       "      <td>1.006728</td>\n",
       "      <td>0.994930</td>\n",
       "      <td>1.000028</td>\n",
       "      <td>1.002675</td>\n",
       "      <td>0.990639</td>\n",
       "      <td>1.002111</td>\n",
       "      <td>...</td>\n",
       "      <td>0.995407</td>\n",
       "      <td>0.997519</td>\n",
       "      <td>0.991977</td>\n",
       "      <td>1.029403</td>\n",
       "      <td>1.000614</td>\n",
       "      <td>0.994150</td>\n",
       "      <td>1.003173</td>\n",
       "      <td>1.018026</td>\n",
       "      <td>0.991275</td>\n",
       "      <td>1.006575</td>\n",
       "    </tr>\n",
       "    <tr>\n",
       "      <th>2</th>\n",
       "      <td>0.991095</td>\n",
       "      <td>0.993637</td>\n",
       "      <td>0.983438</td>\n",
       "      <td>0.985673</td>\n",
       "      <td>0.997505</td>\n",
       "      <td>0.985228</td>\n",
       "      <td>0.997426</td>\n",
       "      <td>1.010387</td>\n",
       "      <td>0.990308</td>\n",
       "      <td>0.977670</td>\n",
       "      <td>...</td>\n",
       "      <td>1.000467</td>\n",
       "      <td>0.991934</td>\n",
       "      <td>1.012895</td>\n",
       "      <td>1.034661</td>\n",
       "      <td>1.027572</td>\n",
       "      <td>0.998157</td>\n",
       "      <td>0.998641</td>\n",
       "      <td>1.002757</td>\n",
       "      <td>0.990085</td>\n",
       "      <td>0.993900</td>\n",
       "    </tr>\n",
       "    <tr>\n",
       "      <th>3</th>\n",
       "      <td>0.974913</td>\n",
       "      <td>1.001652</td>\n",
       "      <td>0.980665</td>\n",
       "      <td>0.986338</td>\n",
       "      <td>0.995220</td>\n",
       "      <td>0.993665</td>\n",
       "      <td>0.984069</td>\n",
       "      <td>1.023099</td>\n",
       "      <td>1.014787</td>\n",
       "      <td>0.982406</td>\n",
       "      <td>...</td>\n",
       "      <td>1.012158</td>\n",
       "      <td>1.001186</td>\n",
       "      <td>1.022039</td>\n",
       "      <td>1.025464</td>\n",
       "      <td>1.032906</td>\n",
       "      <td>0.999639</td>\n",
       "      <td>1.003696</td>\n",
       "      <td>0.994034</td>\n",
       "      <td>0.988983</td>\n",
       "      <td>0.988344</td>\n",
       "    </tr>\n",
       "    <tr>\n",
       "      <th>4</th>\n",
       "      <td>0.976300</td>\n",
       "      <td>1.001029</td>\n",
       "      <td>0.970911</td>\n",
       "      <td>1.012192</td>\n",
       "      <td>1.002299</td>\n",
       "      <td>0.992366</td>\n",
       "      <td>0.977635</td>\n",
       "      <td>1.016076</td>\n",
       "      <td>1.005339</td>\n",
       "      <td>0.989928</td>\n",
       "      <td>...</td>\n",
       "      <td>1.016001</td>\n",
       "      <td>0.997148</td>\n",
       "      <td>1.029503</td>\n",
       "      <td>1.013563</td>\n",
       "      <td>1.017251</td>\n",
       "      <td>1.008064</td>\n",
       "      <td>0.987165</td>\n",
       "      <td>1.006700</td>\n",
       "      <td>0.982769</td>\n",
       "      <td>0.994203</td>\n",
       "    </tr>\n",
       "    <tr>\n",
       "      <th>...</th>\n",
       "      <td>...</td>\n",
       "      <td>...</td>\n",
       "      <td>...</td>\n",
       "      <td>...</td>\n",
       "      <td>...</td>\n",
       "      <td>...</td>\n",
       "      <td>...</td>\n",
       "      <td>...</td>\n",
       "      <td>...</td>\n",
       "      <td>...</td>\n",
       "      <td>...</td>\n",
       "      <td>...</td>\n",
       "      <td>...</td>\n",
       "      <td>...</td>\n",
       "      <td>...</td>\n",
       "      <td>...</td>\n",
       "      <td>...</td>\n",
       "      <td>...</td>\n",
       "      <td>...</td>\n",
       "      <td>...</td>\n",
       "      <td>...</td>\n",
       "    </tr>\n",
       "    <tr>\n",
       "      <th>2516</th>\n",
       "      <td>2.534005</td>\n",
       "      <td>2.999255</td>\n",
       "      <td>0.935751</td>\n",
       "      <td>1.930859</td>\n",
       "      <td>3.085061</td>\n",
       "      <td>4.184193</td>\n",
       "      <td>3.357856</td>\n",
       "      <td>2.789648</td>\n",
       "      <td>1.650662</td>\n",
       "      <td>3.679320</td>\n",
       "      <td>...</td>\n",
       "      <td>1.608796</td>\n",
       "      <td>2.601672</td>\n",
       "      <td>4.662992</td>\n",
       "      <td>8.953154</td>\n",
       "      <td>1.153917</td>\n",
       "      <td>4.418722</td>\n",
       "      <td>1.054596</td>\n",
       "      <td>2.898588</td>\n",
       "      <td>1.122000</td>\n",
       "      <td>2.759690</td>\n",
       "    </tr>\n",
       "    <tr>\n",
       "      <th>2517</th>\n",
       "      <td>2.516124</td>\n",
       "      <td>2.975074</td>\n",
       "      <td>0.920061</td>\n",
       "      <td>1.926053</td>\n",
       "      <td>3.069310</td>\n",
       "      <td>4.185168</td>\n",
       "      <td>3.345522</td>\n",
       "      <td>2.814069</td>\n",
       "      <td>1.653107</td>\n",
       "      <td>3.688717</td>\n",
       "      <td>...</td>\n",
       "      <td>1.590080</td>\n",
       "      <td>2.585145</td>\n",
       "      <td>4.661045</td>\n",
       "      <td>9.151835</td>\n",
       "      <td>1.137734</td>\n",
       "      <td>4.392811</td>\n",
       "      <td>1.059051</td>\n",
       "      <td>2.940509</td>\n",
       "      <td>1.118813</td>\n",
       "      <td>2.797416</td>\n",
       "    </tr>\n",
       "    <tr>\n",
       "      <th>2518</th>\n",
       "      <td>2.566609</td>\n",
       "      <td>2.964451</td>\n",
       "      <td>0.913529</td>\n",
       "      <td>1.928552</td>\n",
       "      <td>3.059808</td>\n",
       "      <td>4.153314</td>\n",
       "      <td>3.381778</td>\n",
       "      <td>2.818348</td>\n",
       "      <td>1.651117</td>\n",
       "      <td>3.696881</td>\n",
       "      <td>...</td>\n",
       "      <td>1.609799</td>\n",
       "      <td>2.606210</td>\n",
       "      <td>4.646398</td>\n",
       "      <td>9.079263</td>\n",
       "      <td>1.113315</td>\n",
       "      <td>4.422227</td>\n",
       "      <td>1.060163</td>\n",
       "      <td>2.899172</td>\n",
       "      <td>1.113237</td>\n",
       "      <td>2.823897</td>\n",
       "    </tr>\n",
       "    <tr>\n",
       "      <th>2519</th>\n",
       "      <td>2.557337</td>\n",
       "      <td>2.931434</td>\n",
       "      <td>0.906910</td>\n",
       "      <td>1.940117</td>\n",
       "      <td>3.062042</td>\n",
       "      <td>4.186351</td>\n",
       "      <td>3.421252</td>\n",
       "      <td>2.834027</td>\n",
       "      <td>1.630363</td>\n",
       "      <td>3.637106</td>\n",
       "      <td>...</td>\n",
       "      <td>1.600782</td>\n",
       "      <td>2.616093</td>\n",
       "      <td>4.615754</td>\n",
       "      <td>8.888815</td>\n",
       "      <td>1.106757</td>\n",
       "      <td>4.489892</td>\n",
       "      <td>1.045881</td>\n",
       "      <td>2.891939</td>\n",
       "      <td>1.117745</td>\n",
       "      <td>2.826330</td>\n",
       "    </tr>\n",
       "    <tr>\n",
       "      <th>2520</th>\n",
       "      <td>2.510083</td>\n",
       "      <td>2.944166</td>\n",
       "      <td>0.896719</td>\n",
       "      <td>1.910860</td>\n",
       "      <td>3.006219</td>\n",
       "      <td>4.264408</td>\n",
       "      <td>3.412109</td>\n",
       "      <td>2.844751</td>\n",
       "      <td>1.656645</td>\n",
       "      <td>3.688489</td>\n",
       "      <td>...</td>\n",
       "      <td>1.580170</td>\n",
       "      <td>2.650505</td>\n",
       "      <td>4.643821</td>\n",
       "      <td>8.888282</td>\n",
       "      <td>1.107691</td>\n",
       "      <td>4.392469</td>\n",
       "      <td>1.048729</td>\n",
       "      <td>2.892363</td>\n",
       "      <td>1.116289</td>\n",
       "      <td>2.854342</td>\n",
       "    </tr>\n",
       "  </tbody>\n",
       "</table>\n",
       "<p>2521 rows × 100 columns</p>\n",
       "</div>"
      ],
      "text/plain": [
       "            0         1         2         3         4         5         6   \\\n",
       "0     1.000000  1.000000  1.000000  1.000000  1.000000  1.000000  1.000000   \n",
       "1     1.001473  1.005032  0.984740  0.984927  1.006728  0.994930  1.000028   \n",
       "2     0.991095  0.993637  0.983438  0.985673  0.997505  0.985228  0.997426   \n",
       "3     0.974913  1.001652  0.980665  0.986338  0.995220  0.993665  0.984069   \n",
       "4     0.976300  1.001029  0.970911  1.012192  1.002299  0.992366  0.977635   \n",
       "...        ...       ...       ...       ...       ...       ...       ...   \n",
       "2516  2.534005  2.999255  0.935751  1.930859  3.085061  4.184193  3.357856   \n",
       "2517  2.516124  2.975074  0.920061  1.926053  3.069310  4.185168  3.345522   \n",
       "2518  2.566609  2.964451  0.913529  1.928552  3.059808  4.153314  3.381778   \n",
       "2519  2.557337  2.931434  0.906910  1.940117  3.062042  4.186351  3.421252   \n",
       "2520  2.510083  2.944166  0.896719  1.910860  3.006219  4.264408  3.412109   \n",
       "\n",
       "            7         8         9   ...        90        91        92  \\\n",
       "0     1.000000  1.000000  1.000000  ...  1.000000  1.000000  1.000000   \n",
       "1     1.002675  0.990639  1.002111  ...  0.995407  0.997519  0.991977   \n",
       "2     1.010387  0.990308  0.977670  ...  1.000467  0.991934  1.012895   \n",
       "3     1.023099  1.014787  0.982406  ...  1.012158  1.001186  1.022039   \n",
       "4     1.016076  1.005339  0.989928  ...  1.016001  0.997148  1.029503   \n",
       "...        ...       ...       ...  ...       ...       ...       ...   \n",
       "2516  2.789648  1.650662  3.679320  ...  1.608796  2.601672  4.662992   \n",
       "2517  2.814069  1.653107  3.688717  ...  1.590080  2.585145  4.661045   \n",
       "2518  2.818348  1.651117  3.696881  ...  1.609799  2.606210  4.646398   \n",
       "2519  2.834027  1.630363  3.637106  ...  1.600782  2.616093  4.615754   \n",
       "2520  2.844751  1.656645  3.688489  ...  1.580170  2.650505  4.643821   \n",
       "\n",
       "            93        94        95        96        97        98        99  \n",
       "0     1.000000  1.000000  1.000000  1.000000  1.000000  1.000000  1.000000  \n",
       "1     1.029403  1.000614  0.994150  1.003173  1.018026  0.991275  1.006575  \n",
       "2     1.034661  1.027572  0.998157  0.998641  1.002757  0.990085  0.993900  \n",
       "3     1.025464  1.032906  0.999639  1.003696  0.994034  0.988983  0.988344  \n",
       "4     1.013563  1.017251  1.008064  0.987165  1.006700  0.982769  0.994203  \n",
       "...        ...       ...       ...       ...       ...       ...       ...  \n",
       "2516  8.953154  1.153917  4.418722  1.054596  2.898588  1.122000  2.759690  \n",
       "2517  9.151835  1.137734  4.392811  1.059051  2.940509  1.118813  2.797416  \n",
       "2518  9.079263  1.113315  4.422227  1.060163  2.899172  1.113237  2.823897  \n",
       "2519  8.888815  1.106757  4.489892  1.045881  2.891939  1.117745  2.826330  \n",
       "2520  8.888282  1.107691  4.392469  1.048729  2.892363  1.116289  2.854342  \n",
       "\n",
       "[2521 rows x 100 columns]"
      ]
     },
     "execution_count": 42,
     "metadata": {},
     "output_type": "execute_result"
    }
   ],
   "source": [
    "# Run the Monte Carlo simulation to forecast 10 years cumulative returns\n",
    "Ten_yr_MC.calc_cumulative_return()\n"
   ]
  },
  {
   "cell_type": "code",
   "execution_count": 43,
   "metadata": {},
   "outputs": [
    {
     "data": {
      "image/png": "[encoded data removed]",
      "text/plain": [
       "<Figure size 640x480 with 1 Axes>"
      ]
     },
     "metadata": {},
     "output_type": "display_data"
    }
   ],
   "source": [
    "# Visualize the 10-year Monte Carlo simulation by creating an\n",
    "# overlay line plot\n",
    "Ten_line_plot = Ten_yr_MC.plot_simulation()\n"
   ]
  },
  {
   "cell_type": "code",
   "execution_count": 44,
   "metadata": {},
   "outputs": [
    {
     "data": {
      "image/png": "[encoded data removed]",
      "text/plain": [
       "<Figure size 640x480 with 1 Axes>"
      ]
     },
     "metadata": {},
     "output_type": "display_data"
    }
   ],
   "source": [
    "# Visualize the probability distribution of the 10-year Monte Carlo simulation \n",
    "# by plotting a histogram\n",
    "Hist_Ten_yr = Ten_yr_MC.plot_distribution()\n"
   ]
  },
  {
   "cell_type": "code",
   "execution_count": 45,
   "metadata": {},
   "outputs": [
    {
     "name": "stdout",
     "output_type": "stream",
     "text": [
      "count           100.000000\n",
      "mean              2.820724\n",
      "std               1.699217\n",
      "min               0.487369\n",
      "25%               1.684339\n",
      "50%               2.585154\n",
      "75%               3.427193\n",
      "max              11.637782\n",
      "95% CI Lower      0.930174\n",
      "95% CI Upper      6.839726\n",
      "Name: 2520, dtype: float64\n"
     ]
    },
    {
     "name": "stderr",
     "output_type": "stream",
     "text": [
      "/Users/carygutknecht/Desktop/MOD5/MCForecastTools.py:172: FutureWarning: The series.append method is deprecated and will be removed from pandas in a future version. Use pandas.concat instead.\n",
      "  return metrics.append(ci_series)\n"
     ]
    }
   ],
   "source": [
    "# Generate summary statistics from the 10-year Monte Carlo simulation results\n",
    "# Save the results as a variable\n",
    "MC_Ten_statistics = Ten_yr_MC.summarize_cumulative_return()\n",
    "\n",
    "\n",
    "# Review the 10-year Monte Carlo summary statistics\n",
    "print(MC_Ten_statistics)\n"
   ]
  },
  {
   "cell_type": "markdown",
   "metadata": {},
   "source": [
    "### Answer the following questions:"
   ]
  },
  {
   "cell_type": "markdown",
   "metadata": {},
   "source": [
    "#### Question: Using the current value of only the stock and bond portion of the member's portfolio and the summary statistics that you generated from the new Monte Carlo simulation, what are the lower and upper bounds for the expected value of the portfolio (with the new weights) with a 95% confidence interval?"
   ]
  },
  {
   "cell_type": "code",
   "execution_count": 46,
   "metadata": {},
   "outputs": [
    {
     "name": "stdout",
     "output_type": "stream",
     "text": [
      "The current balance of the stock and bond portion of the members portfolio is $103047.165\n"
     ]
    }
   ],
   "source": [
    "# Print the current balance of the stock and bond portion of the members portfolio\n",
    "print(f\"The current balance of the stock and bond portion of the members portfolio is ${total_portfolio_value}\")\n"
   ]
  },
  {
   "cell_type": "code",
   "execution_count": 47,
   "metadata": {},
   "outputs": [
    {
     "name": "stdout",
     "output_type": "stream",
     "text": [
      "There is a 95% chance that your current Portfolio will have a value between $95851.76 and $704814.37 in the 10 years.\n"
     ]
    }
   ],
   "source": [
    "# Use the lower and upper `95%` confidence intervals to calculate the range of the possible outcomes for the current stock/bond portfolio\n",
    "ci_lower_thirty_cumulative_return = MC_Ten_statistics[8] * total_portfolio_value\n",
    "ci_upper_thirty_cumulative_return = MC_Ten_statistics[9] * total_portfolio_value\n",
    "\n",
    "# Print the result of your calculations\n",
    "print(f\"There is a 95% chance that your current Portfolio will have a value between ${ci_lower_thirty_cumulative_return:.2f} and ${ci_upper_thirty_cumulative_return:.2f} in the 10 years.\")"
   ]
  },
  {
   "cell_type": "markdown",
   "metadata": {},
   "source": [
    "#### Question: Will weighting the portfolio more heavily to stocks allow the credit union members to retire after only 10 years?"
   ]
  },
  {
   "cell_type": "raw",
   "metadata": {},
   "source": [
    "**Answer** # YOUR ANSWER HERE"
   ]
  },
  {
   "cell_type": "code",
   "execution_count": 48,
   "metadata": {},
   "outputs": [
    {
     "ename": "SyntaxError",
     "evalue": "invalid syntax (4247210213.py, line 1)",
     "output_type": "error",
     "traceback": [
      "\u001b[0;36m  File \u001b[0;32m\"/var/folders/c5/gycfmhsn1y179k5879wy4k4c0000gn/T/ipykernel_63246/4247210213.py\"\u001b[0;36m, line \u001b[0;32m1\u001b[0m\n\u001b[0;31m    No weighting the portfolio more heavil to stocks will not allow the credit union members to retire after 10 years.\u001b[0m\n\u001b[0m       ^\u001b[0m\n\u001b[0;31mSyntaxError\u001b[0m\u001b[0;31m:\u001b[0m invalid syntax\n"
     ]
    }
   ],
   "source": [
    "No weighting the portfolio more heavil to stocks will not allow the credit union members to retire after 10 years."
   ]
  }
 ],
 "metadata": {
  "kernelspec": {
   "display_name": "Python 3 (ipykernel)",
   "language": "python",
   "name": "python3"
  },
  "language_info": {
   "codemirror_mode": {
    "name": "ipython",
    "version": 3
   },
   "file_extension": ".py",
   "mimetype": "text/x-python",
   "name": "python",
   "nbconvert_exporter": "python",
   "pygments_lexer": "ipython3",
   "version": "3.10.4"
  }
 },
 "nbformat": 4,
 "nbformat_minor": 4
}
